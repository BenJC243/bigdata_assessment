{
 "cells": [
  {
   "cell_type": "code",
   "execution_count": 20,
   "id": "8af237e9",
   "metadata": {},
   "outputs": [],
   "source": [
    "#Loading relevant modules \n",
    "import numpy as np\n",
    "import matplotlib as plt \n",
    "import pandas as pd \n",
    "from scipy import stats \n",
    "import matplotlib.pyplot as plt"
   ]
  },
  {
   "cell_type": "code",
   "execution_count": 21,
   "id": "157f1213",
   "metadata": {},
   "outputs": [],
   "source": [
    "#Importing the data \n",
    "df = pd.read_csv(\"diabetic_data.csv\")\n"
   ]
  },
  {
   "cell_type": "code",
   "execution_count": 22,
   "id": "f360141c",
   "metadata": {},
   "outputs": [
    {
     "name": "stdout",
     "output_type": "stream",
     "text": [
      "(101766, 50)\n",
      "Droppinf column repaglinide\n",
      "Droppinf column nateglinide\n",
      "Droppinf column chlorpropamide\n",
      "Droppinf column acetohexamide\n",
      "Droppinf column tolbutamide\n",
      "Droppinf column acarbose\n",
      "Droppinf column miglitol\n",
      "Droppinf column troglitazone\n",
      "Droppinf column tolazamide\n",
      "Droppinf column examide\n",
      "Droppinf column citoglipton\n",
      "Droppinf column glyburide-metformin\n",
      "Droppinf column glipizide-metformin\n",
      "Droppinf column glimepiride-pioglitazone\n",
      "Droppinf column metformin-rosiglitazone\n",
      "Droppinf column metformin-pioglitazone\n",
      "(101766, 33)\n"
     ]
    }
   ],
   "source": [
    "'''Data Cleaning'''\n",
    "\n",
    "#The shape of the dataframe \n",
    "print(df.shape) \n",
    "\n",
    "#Replace all missing values\n",
    "df.replace('?',np.nan,inplace=True) #Replace ? with NaN \n",
    "df.replace(r'^\\s*$', np.nan, regex=True, inplace=True) #Replace empty space with NaN\n",
    "\n",
    "min50= float(0.5*(df.shape[0]+1)) #create object with value of 50% row total\n",
    "df= df.dropna(axis=1,thresh=min50) #drop columns with values missing from 50% of rows \n",
    "df.dropna(axis=0,how='any') #drop any rows with missing values \n",
    "\n",
    "\n",
    "\n",
    "#drop columns with 95% same values \n",
    "col_heads=list(df.columns)\n",
    "df['age'].value_counts(dropna=False) #returns each value with list of counts \n",
    "min95=float(0.95*(df.shape[0]+1)) #determine 95% of values \n",
    "for column in col_heads: #for each column in col_heads \n",
    "    mylist= df[column].value_counts(dropna=False) #make a list of counts for each value found in the column\n",
    "    for x in mylist: #for each value (count no. of each value in col)\n",
    "        if x >= min95: #if the value is present in 95% of rows \n",
    "            df.drop(axis=1,columns=column,inplace=True)\n",
    "            statement= 'dropping column: {}'.format(column)\n",
    "            print(f\"Droppinf column {column}\")\n",
    "\n",
    "#Shape of dataframe after column removal \n",
    "print(df.shape)"
   ]
  },
  {
   "cell_type": "code",
   "execution_count": 23,
   "id": "2c606d86",
   "metadata": {},
   "outputs": [
    {
     "data": {
      "text/html": [
       "<div>\n",
       "<style scoped>\n",
       "    .dataframe tbody tr th:only-of-type {\n",
       "        vertical-align: middle;\n",
       "    }\n",
       "\n",
       "    .dataframe tbody tr th {\n",
       "        vertical-align: top;\n",
       "    }\n",
       "\n",
       "    .dataframe thead th {\n",
       "        text-align: right;\n",
       "    }\n",
       "</style>\n",
       "<table border=\"1\" class=\"dataframe\">\n",
       "  <thead>\n",
       "    <tr style=\"text-align: right;\">\n",
       "      <th></th>\n",
       "      <th>encounter_id</th>\n",
       "      <th>patient_nbr</th>\n",
       "      <th>race</th>\n",
       "      <th>gender</th>\n",
       "      <th>age</th>\n",
       "      <th>admission_type_id</th>\n",
       "      <th>discharge_disposition_id</th>\n",
       "      <th>admission_source_id</th>\n",
       "      <th>time_in_hospital</th>\n",
       "      <th>payer_code</th>\n",
       "      <th>...</th>\n",
       "      <th>metformin</th>\n",
       "      <th>glimepiride</th>\n",
       "      <th>glipizide</th>\n",
       "      <th>glyburide</th>\n",
       "      <th>pioglitazone</th>\n",
       "      <th>rosiglitazone</th>\n",
       "      <th>insulin</th>\n",
       "      <th>change</th>\n",
       "      <th>diabetesMed</th>\n",
       "      <th>readmitted</th>\n",
       "    </tr>\n",
       "  </thead>\n",
       "  <tbody>\n",
       "    <tr>\n",
       "      <th>0</th>\n",
       "      <td>2278392</td>\n",
       "      <td>8222157</td>\n",
       "      <td>Caucasian</td>\n",
       "      <td>Female</td>\n",
       "      <td>5</td>\n",
       "      <td>6</td>\n",
       "      <td>25</td>\n",
       "      <td>1</td>\n",
       "      <td>1</td>\n",
       "      <td>NaN</td>\n",
       "      <td>...</td>\n",
       "      <td>No</td>\n",
       "      <td>No</td>\n",
       "      <td>No</td>\n",
       "      <td>No</td>\n",
       "      <td>No</td>\n",
       "      <td>No</td>\n",
       "      <td>No</td>\n",
       "      <td>No</td>\n",
       "      <td>No</td>\n",
       "      <td>NO</td>\n",
       "    </tr>\n",
       "    <tr>\n",
       "      <th>1</th>\n",
       "      <td>149190</td>\n",
       "      <td>55629189</td>\n",
       "      <td>Caucasian</td>\n",
       "      <td>Female</td>\n",
       "      <td>15</td>\n",
       "      <td>1</td>\n",
       "      <td>1</td>\n",
       "      <td>7</td>\n",
       "      <td>3</td>\n",
       "      <td>NaN</td>\n",
       "      <td>...</td>\n",
       "      <td>No</td>\n",
       "      <td>No</td>\n",
       "      <td>No</td>\n",
       "      <td>No</td>\n",
       "      <td>No</td>\n",
       "      <td>No</td>\n",
       "      <td>Up</td>\n",
       "      <td>Ch</td>\n",
       "      <td>Yes</td>\n",
       "      <td>&gt;30</td>\n",
       "    </tr>\n",
       "    <tr>\n",
       "      <th>2</th>\n",
       "      <td>64410</td>\n",
       "      <td>86047875</td>\n",
       "      <td>AfricanAmerican</td>\n",
       "      <td>Female</td>\n",
       "      <td>25</td>\n",
       "      <td>1</td>\n",
       "      <td>1</td>\n",
       "      <td>7</td>\n",
       "      <td>2</td>\n",
       "      <td>NaN</td>\n",
       "      <td>...</td>\n",
       "      <td>No</td>\n",
       "      <td>No</td>\n",
       "      <td>Steady</td>\n",
       "      <td>No</td>\n",
       "      <td>No</td>\n",
       "      <td>No</td>\n",
       "      <td>No</td>\n",
       "      <td>No</td>\n",
       "      <td>Yes</td>\n",
       "      <td>NO</td>\n",
       "    </tr>\n",
       "    <tr>\n",
       "      <th>3</th>\n",
       "      <td>500364</td>\n",
       "      <td>82442376</td>\n",
       "      <td>Caucasian</td>\n",
       "      <td>Male</td>\n",
       "      <td>35</td>\n",
       "      <td>1</td>\n",
       "      <td>1</td>\n",
       "      <td>7</td>\n",
       "      <td>2</td>\n",
       "      <td>NaN</td>\n",
       "      <td>...</td>\n",
       "      <td>No</td>\n",
       "      <td>No</td>\n",
       "      <td>No</td>\n",
       "      <td>No</td>\n",
       "      <td>No</td>\n",
       "      <td>No</td>\n",
       "      <td>Up</td>\n",
       "      <td>Ch</td>\n",
       "      <td>Yes</td>\n",
       "      <td>NO</td>\n",
       "    </tr>\n",
       "    <tr>\n",
       "      <th>4</th>\n",
       "      <td>16680</td>\n",
       "      <td>42519267</td>\n",
       "      <td>Caucasian</td>\n",
       "      <td>Male</td>\n",
       "      <td>45</td>\n",
       "      <td>1</td>\n",
       "      <td>1</td>\n",
       "      <td>7</td>\n",
       "      <td>1</td>\n",
       "      <td>NaN</td>\n",
       "      <td>...</td>\n",
       "      <td>No</td>\n",
       "      <td>No</td>\n",
       "      <td>Steady</td>\n",
       "      <td>No</td>\n",
       "      <td>No</td>\n",
       "      <td>No</td>\n",
       "      <td>Steady</td>\n",
       "      <td>Ch</td>\n",
       "      <td>Yes</td>\n",
       "      <td>NO</td>\n",
       "    </tr>\n",
       "  </tbody>\n",
       "</table>\n",
       "<p>5 rows × 33 columns</p>\n",
       "</div>"
      ],
      "text/plain": [
       "   encounter_id  patient_nbr             race  gender  age  admission_type_id  \\\n",
       "0       2278392      8222157        Caucasian  Female    5                  6   \n",
       "1        149190     55629189        Caucasian  Female   15                  1   \n",
       "2         64410     86047875  AfricanAmerican  Female   25                  1   \n",
       "3        500364     82442376        Caucasian    Male   35                  1   \n",
       "4         16680     42519267        Caucasian    Male   45                  1   \n",
       "\n",
       "   discharge_disposition_id  admission_source_id  time_in_hospital payer_code  \\\n",
       "0                        25                    1                 1        NaN   \n",
       "1                         1                    7                 3        NaN   \n",
       "2                         1                    7                 2        NaN   \n",
       "3                         1                    7                 2        NaN   \n",
       "4                         1                    7                 1        NaN   \n",
       "\n",
       "   ... metformin  glimepiride  glipizide  glyburide  pioglitazone  \\\n",
       "0  ...        No           No         No         No            No   \n",
       "1  ...        No           No         No         No            No   \n",
       "2  ...        No           No     Steady         No            No   \n",
       "3  ...        No           No         No         No            No   \n",
       "4  ...        No           No     Steady         No            No   \n",
       "\n",
       "   rosiglitazone  insulin change diabetesMed readmitted  \n",
       "0             No       No     No          No         NO  \n",
       "1             No       Up     Ch         Yes        >30  \n",
       "2             No       No     No         Yes         NO  \n",
       "3             No       Up     Ch         Yes         NO  \n",
       "4             No   Steady     Ch         Yes         NO  \n",
       "\n",
       "[5 rows x 33 columns]"
      ]
     },
     "execution_count": 23,
     "metadata": {},
     "output_type": "execute_result"
    }
   ],
   "source": [
    "#Transforming the age column to middle value\n",
    "ages = df[\"age\"]\n",
    "middle_age_value = [int(age.split(\"-\")[1].strip(\")\"))-5 for age in ages]\n",
    "series = pd.Series(middle_age_value)\n",
    "df[\"age\"] = series \n",
    "df.head(5)"
   ]
  },
  {
   "cell_type": "code",
   "execution_count": 24,
   "id": "ce5c4206",
   "metadata": {},
   "outputs": [],
   "source": [
    "#Replacing missing values in columns diag_1/2/3 \n",
    "df[\"diag_1\"].fillna(0, inplace=True)\n",
    "df[\"diag_2\"].fillna(0, inplace=True)\n",
    "df[\"diag_3\"].fillna(0, inplace=True)"
   ]
  },
  {
   "cell_type": "code",
   "execution_count": 25,
   "id": "870c3f5e",
   "metadata": {},
   "outputs": [
    {
     "name": "stdout",
     "output_type": "stream",
     "text": [
      "Numerical columns are: ['patient_nbr', 'age', 'discharge_disposition_id', 'time_in_hospital', 'num_lab_procedures', 'num_procedures', 'num_medications', 'number_outpatient', 'number_emergency', 'number_inpatient', 'number_diagnoses']\n"
     ]
    }
   ],
   "source": [
    "#List of numerical and categorical features  \n",
    "col_heads=list(df.columns)\n",
    "catlist= df.select_dtypes(object).columns.values.tolist()\n",
    "numlist= df.select_dtypes(np.number).columns.values.tolist()\n",
    "\n",
    "for col in numlist:\n",
    "    if col[-2:]=='id':\n",
    "        numlist.remove(col)\n",
    "        catlist.append(col)\n",
    "\n",
    "print(f'Numerical columns are: {numlist}')       "
   ]
  },
  {
   "cell_type": "code",
   "execution_count": 26,
   "id": "9bbd3a58",
   "metadata": {},
   "outputs": [
    {
     "name": "stdout",
     "output_type": "stream",
     "text": [
      "Categorical columns are: ['race', 'gender', 'payer_code', 'medical_specialty', 'diag_1', 'diag_2', 'diag_3', 'max_glu_serum', 'A1Cresult', 'metformin', 'glimepiride', 'glipizide', 'glyburide', 'pioglitazone', 'rosiglitazone', 'insulin', 'change', 'diabetesMed', 'readmitted', 'encounter_id', 'admission_type_id', 'admission_source_id']\n"
     ]
    }
   ],
   "source": [
    "print(f'Categorical columns are: {catlist}')"
   ]
  },
  {
   "cell_type": "code",
   "execution_count": 37,
   "id": "faf1ec47",
   "metadata": {},
   "outputs": [
    {
     "data": {
      "text/plain": [
       "(41598, 34)"
      ]
     },
     "execution_count": 37,
     "metadata": {},
     "output_type": "execute_result"
    }
   ],
   "source": [
    "#Removing duplicates in the column patient_nbr \n",
    "df = df.drop_duplicates(subset='patient_nbr',keep='first')\n",
    "df.shape"
   ]
  },
  {
   "cell_type": "code",
   "execution_count": 36,
   "id": "b0fda4a0",
   "metadata": {},
   "outputs": [
    {
     "data": {
      "text/plain": [
       "(41598, 34)"
      ]
     },
     "execution_count": 36,
     "metadata": {},
     "output_type": "execute_result"
    }
   ],
   "source": [
    "#Identifying and removing outliers in the numerical columns\n",
    "#df2=df.copy() #create a copy to identify outliers \n",
    "#for col in numlist: #for each numerical column... \n",
    "#    z= np.abs(stats.zscore(df[col])) #calculate a z score \n",
    " #   df2[col]=z #define a new column with z scores \n",
    "  #  myindex=df2[(df2[col]>3)].index #index depending on whether or not values deviate > 3 sds from mean \n",
    "   # df.drop(myindex,inplace=True) #drop all rows with numerical values > 3 sd from mean \n",
    "df.shape\n",
    "\n",
    "clean_test = df\n",
    "threshold = 3\n",
    "ls = []\n",
    "for column in numlist:\n",
    "    z = np.abs(stats.zscore(clean_test[column]))\n",
    "    #zscpres\n",
    "    clean_test[column] = z\n",
    "    index_names = clean_test[(clean_test[column]>3)].index\n",
    "    #dataframe\n",
    "    df.drop(index_names, inplace=True)\n",
    "df.shape"
   ]
  },
  {
   "cell_type": "code",
   "execution_count": 29,
   "id": "fb457b8e",
   "metadata": {},
   "outputs": [],
   "source": [
    "'''Data Exploration'''\n",
    "\n",
    "#joining icd codes datasetwith diabertic dataset \n",
    "#finding the icd dcode descirption frmo the diabetic data set and icd codes\n",
    "icd_codes = pd.read_csv(\"icd_codes.csv\")\n",
    "\n",
    "def fill_icd_description(diag_column,data,icd_data):\n",
    "    desc_array = []\n",
    "    diag_col = data[diag_column]\n",
    "    for code in diag_col:\n",
    "        icd_loc = icd_data[icd_data[\"ICD_Code\"]==code].index.values # get the index of the icd_code in the diabetic dataset\n",
    "        icd_desc = icd_data[\"Description\"][icd_loc].values\n",
    "        try: #try -exception hnalding to find out if there are any codes in the maind taframe that do not hajve descirpotion\n",
    "            icd_desc_string = icd_desc[0]\n",
    "        except IndexError:\n",
    "            desc_array.append('0')\n",
    "        else:\n",
    "            desc_array.append(icd_desc_string)\n",
    "    return desc_array\n",
    "\n",
    "diag_1_col = fill_icd_description('diag_1', df, icd_codes)\n",
    "\n",
    "##adding the descrption to eahc diangosis column\n",
    "df['diag_1_desc'] = diag_1_col"
   ]
  },
  {
   "cell_type": "code",
   "execution_count": 30,
   "id": "73250a31",
   "metadata": {},
   "outputs": [
    {
     "name": "stderr",
     "output_type": "stream",
     "text": [
      "/home/solomon/miniconda3/lib/python3.9/site-packages/pandas/core/indexing.py:1637: SettingWithCopyWarning: \n",
      "A value is trying to be set on a copy of a slice from a DataFrame\n",
      "\n",
      "See the caveats in the documentation: https://pandas.pydata.org/pandas-docs/stable/user_guide/indexing.html#returning-a-view-versus-a-copy\n",
      "  self._setitem_single_block(indexer, value, name)\n"
     ]
    },
    {
     "data": {
      "image/png": "[encoded data removed]",
      "text/plain": [
       "<Figure size 1080x864 with 2 Axes>"
      ]
     },
     "metadata": {
      "needs_background": "light"
     },
     "output_type": "display_data"
    }
   ],
   "source": [
    "#icd codes\n",
    "#Grouping icd code descirptions based on types of diagnoses \n",
    "\n",
    "desc_dict = {'Disease of the circulatory system': (390,459,785),\n",
    "                  'Diabetes' : (250,251),\n",
    "                  'Disease of the respiratory system' : (460,519,786),\n",
    "                  'Disease of the digestive sytem' : (520, 579, 787),\n",
    "                  'Injury and poisoning': (800,999),\n",
    "                  'Musculoskeletal system and conncetive tissue': (710,739),\n",
    "                  'Disease of the genitourinary system': (500, 629, 788),\n",
    "                  'Neoplasms' : (140,239)}\n",
    "\n",
    "def transform_icd_description(dictionary,data):\n",
    "    #convert icd codees to numeric datatype for grouping\n",
    "    diag_1 = data['diag_1']\n",
    "    diag_1_desc = data['diag_1_desc']\n",
    "    diag_1 = pd.to_numeric(diag_1, errors=\"coerce\")\n",
    "    diag_1.replace(np.nan, 0, inplace=True)\n",
    "    data[\"diag_1\"] = diag_1\n",
    "    \n",
    "    #data['diag_1_desc'].loc[index_other] = 'Other'\n",
    "\n",
    "    #Replace Icd codes of 0 to te description other\n",
    "    index_other = data[data[\"diag_1\"]==0].index\n",
    "    df[\"diag_1_desc\"].loc[index_other] = \"Other\"\n",
    "    \n",
    "    #replace icd_description with descirption witihn the dictionary \n",
    "    \n",
    "    for k,v in list(dictionary.items()):\n",
    "        if len(v) == 3:\n",
    "            index = data[\"diag_1\"].loc[(data[\"diag_1\"] >= v[0]) & (data[\"diag_1\"] <= v[1]) | (data[\"diag_1\"] == v[2])].index\n",
    "            vals = np.unique(data[\"diag_1_desc\"].loc[index].values)\n",
    "            data[\"diag_1_desc\"].replace(vals, k, inplace=True)\n",
    "        elif len(v) == 2:\n",
    "            index = data[\"diag_1\"].loc[(data[\"diag_1\"] >= v[0]) & (data[\"diag_1\"] <= v[1])].index\n",
    "            vals = np.unique(df[\"diag_1_desc\"].loc[index].values)\n",
    "            data[\"diag_1_desc\"].replace(vals,k, inplace=True)\n",
    "            \n",
    "        #clip description that occur in the data that occur less than hald of % of the over all data\n",
    "    half_percent = len(df) * 0.005\n",
    "    count = data[\"diag_1_desc\"].value_counts()\n",
    "    filtered = data[data[\"diag_1_desc\"].isin(count.index[count.gt(half_percent)])]\n",
    "    \n",
    "    #clip description that occur in the data that occur less than hald of % of the over all data\n",
    "    half_percent = len(df) * 0.005\n",
    "    count = data[\"diag_1_desc\"].value_counts()\n",
    "    filtered = data[data[\"diag_1_desc\"].isin(count.index[count.gt(half_percent)])]\n",
    "    \n",
    "    return filtered\n",
    "\n",
    "   \n",
    "\n",
    "\n",
    "def plot_diag(data):\n",
    "    fig, (ax1,ax2) = plt.subplots(1,2, figsize=(15,12))\n",
    "    \n",
    "    #admitted\n",
    "    grouped = data[data[\"readmitted\"]!=0]\n",
    "    icd_grouped = grouped.groupby(\"diag_1_desc\").count()\n",
    "    sorted_grouped = icd_grouped.sort_values([\"readmitted\"],ascending=False)\n",
    "    index = sorted_grouped.index\n",
    "    readmitted_column = sorted_grouped[\"readmitted\"].values\n",
    "    ax1.bar(index,readmitted_column)\n",
    "    ax1.tick_params(labelrotation=90)\n",
    "    ax1.set(xlabel = \"Primary Diagnosis\")\n",
    "    ax1.set(ylabel = \"Number of Readmissions\")\n",
    "    ax1.set_title(\"The number of readmissions against primary diagnosis\")\n",
    "    \n",
    "    # not admitted\n",
    "    non_grouped = data[data[\"readmitted\"]==0]\n",
    "    icd_non_grouped = non_grouped.groupby(\"diag_1_desc\").count()\n",
    "    sorted_non_grouped = icd_non_grouped.sort_values([\"readmitted\"],ascending=False)\n",
    "    non_index = sorted_non_grouped.index\n",
    "    non_readmitted_column = sorted_non_grouped[\"readmitted\"].values\n",
    "    ax2.bar(index,readmitted_column)\n",
    "    ax2.tick_params(labelrotation=90)\n",
    "    ax2.set(xlabel = \"Primary Diagnosis\")\n",
    "    ax2.set(ylabel = \"Number of non Readmissions\")\n",
    "    ax2.set_title(\"The number of non-readmissions against primary diagnosis\")\n",
    "    plt.xticks(rotation = 90)\n",
    "    plt.show\n",
    "    \n",
    "#df.drop(\"diag_1_desc\",axis=1)\n",
    "icd_dataframe = transform_icd_description(desc_dict, df)\n",
    "plot_diag(icd_dataframe)"
   ]
  },
  {
   "cell_type": "code",
   "execution_count": 38,
   "id": "b7a7691d",
   "metadata": {},
   "outputs": [
    {
     "data": {
      "text/plain": [
       "(41598, 34)"
      ]
     },
     "execution_count": 38,
     "metadata": {},
     "output_type": "execute_result"
    }
   ],
   "source": []
  },
  {
   "cell_type": "code",
   "execution_count": null,
   "id": "87c7134e",
   "metadata": {},
   "outputs": [],
   "source": []
  }
 ],
 "metadata": {
  "kernelspec": {
   "display_name": "Python 3 (ipykernel)",
   "language": "python",
   "name": "python3"
  },
  "language_info": {
   "codemirror_mode": {
    "name": "ipython",
    "version": 3
   },
   "file_extension": ".py",
   "mimetype": "text/x-python",
   "name": "python",
   "nbconvert_exporter": "python",
   "pygments_lexer": "ipython3",
   "version": "3.9.5"
  }
 },
 "nbformat": 4,
 "nbformat_minor": 5
}
