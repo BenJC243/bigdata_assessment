{
 "cells": [
  {
   "cell_type": "code",
   "execution_count": 1,
   "id": "8af237e9",
   "metadata": {},
   "outputs": [],
   "source": [
    "#load in relevant modules \n",
    "import numpy as np\n",
    "import matplotlib as plt \n",
    "import pandas as pd \n",
    "from scipy import stats "
   ]
  },
  {
   "cell_type": "code",
   "execution_count": 4,
   "id": "157f1213",
   "metadata": {},
   "outputs": [],
   "source": [
    "##0 - importing the data \n",
    "myfile1='diabetic_data.csv'\n",
    "df1=pd.read_csv(myfile1)"
   ]
  },
  {
   "cell_type": "code",
   "execution_count": 5,
   "id": "f360141c",
   "metadata": {},
   "outputs": [
    {
     "name": "stdout",
     "output_type": "stream",
     "text": [
      "(101766, 50)\n",
      "dropping column: repaglinide\n",
      "dropping column: nateglinide\n",
      "dropping column: chlorpropamide\n",
      "dropping column: acetohexamide\n",
      "dropping column: tolbutamide\n",
      "dropping column: acarbose\n",
      "dropping column: miglitol\n",
      "dropping column: troglitazone\n",
      "dropping column: tolazamide\n",
      "dropping column: examide\n",
      "dropping column: citoglipton\n",
      "dropping column: glyburide-metformin\n",
      "dropping column: glipizide-metformin\n",
      "dropping column: glimepiride-pioglitazone\n",
      "dropping column: metformin-rosiglitazone\n",
      "dropping column: metformin-pioglitazone\n"
     ]
    }
   ],
   "source": [
    "##1 - cleaning the data \n",
    "#dropping values from the dataframe \n",
    "print(df1.shape) #show the shape of dataframe \n",
    "\n",
    "df1.replace('?',np.nan,inplace=True) #replace ? with NaN \n",
    "df1 = df1.replace(r'^\\s*$', np.nan, regex=True) #replace empty space with NaN\n",
    "\n",
    "min50= float(0.5*(df1.shape[0]+1)) #create object with value of 50% row total\n",
    "df1= df1.dropna(axis=1,thresh=min50) #drop columns with values missing from 50% of rows \n",
    "df1.shape #one column dropped \n",
    "\n",
    "df1.dropna(axis=0,how='any') #drop any rows with missing values \n",
    "\n",
    "#drop columns with 95% same values \n",
    "col_heads=list(df1.columns)\n",
    "df1['age'].value_counts(dropna=False) #returns each value with list of counts \n",
    "min95=float(0.95*(df1.shape[0]+1)) #determine 95% of values \n",
    "for title in col_heads: #for each title in col_heads \n",
    "    mylist= df1[title].value_counts(dropna=False) #make a list of counts for each value found in the column\n",
    "    for x in mylist: #for each value (count no. of each value in col)\n",
    "        if x >= min95: #if the value is present in 95% of rows \n",
    "            df1.drop(axis=1,columns=title,inplace=True)\n",
    "            statement= 'dropping column: {}'.format(title)\n",
    "            print(statement)"
   ]
  },
  {
   "cell_type": "code",
   "execution_count": 7,
   "id": "2c606d86",
   "metadata": {},
   "outputs": [],
   "source": [
    "#transforming age column to midpoint\n",
    "newcol=[]\n",
    "for x in df1['age']:\n",
    "    x=x.replace('[','')\n",
    "    x=x.replace(')','')\n",
    "    x2=x.split('-')\n",
    "    y=int(x2[0])+5\n",
    "    newcol.append(y)\n",
    "df1['age']=newcol"
   ]
  },
  {
   "cell_type": "code",
   "execution_count": 9,
   "id": "ce5c4206",
   "metadata": {},
   "outputs": [],
   "source": [
    "#replace NaN values in diag_1/2/3 \n",
    "diag_cols=['diag_1','diag_2','diag_3']\n",
    "for title in diag_cols:\n",
    "    df1[title]= df1[title].fillna(0,inplace=False)\n",
    "#df1.dtypes"
   ]
  },
  {
   "cell_type": "code",
   "execution_count": 11,
   "id": "870c3f5e",
   "metadata": {},
   "outputs": [
    {
     "name": "stdout",
     "output_type": "stream",
     "text": [
      "numerical columns are: ['age', 'time_in_hospital', 'num_lab_procedures', 'num_procedures', 'num_medications', 'number_outpatient', 'number_emergency', 'number_inpatient', 'number_diagnoses']\n",
      "categorical columns are: ['race', 'gender', 'payer_code', 'medical_specialty', 'diag_1', 'diag_2', 'diag_3', 'max_glu_serum', 'A1Cresult', 'metformin', 'glimepiride', 'glipizide', 'glyburide', 'pioglitazone', 'rosiglitazone', 'insulin', 'change', 'diabetesMed', 'readmitted', 'encounter_id', 'admission_type_id', 'admission_source_id']\n"
     ]
    }
   ],
   "source": [
    "#numerical and other variables from data frame to list \n",
    "col_heads=list(df1.columns)\n",
    "catlist= df1.select_dtypes(object).columns.values.tolist()\n",
    "numlist= df1.select_dtypes(np.number).columns.values.tolist()\n",
    "\n",
    "for col in numlist:\n",
    "    if col[-2:]=='id':\n",
    "        numlist.remove(col)\n",
    "        catlist.append(col)\n",
    "numlist.remove('patient_nbr')\n",
    "numlist.remove('discharge_disposition_id')\n",
    "print('numerical columns are: {}\\ncategorical columns are: {}'.format(numlist,catlist))\n",
    "        "
   ]
  },
  {
   "cell_type": "code",
   "execution_count": 13,
   "id": "faf1ec47",
   "metadata": {},
   "outputs": [
    {
     "data": {
      "text/plain": [
       "(71518, 33)"
      ]
     },
     "execution_count": 13,
     "metadata": {},
     "output_type": "execute_result"
    }
   ],
   "source": [
    "#drop rows with duplicate patient_nbr \n",
    "df1 = df1.drop_duplicates(subset='patient_nbr',keep='first')\n",
    "df1.shape"
   ]
  },
  {
   "cell_type": "code",
   "execution_count": 16,
   "id": "b0fda4a0",
   "metadata": {},
   "outputs": [
    {
     "data": {
      "text/plain": [
       "(64468, 33)"
      ]
     },
     "execution_count": 16,
     "metadata": {},
     "output_type": "execute_result"
    }
   ],
   "source": [
    "#identify and remove outliers \n",
    "df2=df1.copy() #create a copy to identify outliers \n",
    "for col in numlist: #for each numerical column... \n",
    "    z= np.abs(stats.zscore(df1[col])) #calculate a z score \n",
    "    df2[col]=z #define a new column with z scores \n",
    "    myindex=df2[(df2[col]>3)].index #index depending on whether or not values deviate > 3 sds from mean \n",
    "    df1.drop(myindex,inplace=True) #drop all rows with numerical values > 3 sd from mean \n",
    "df1.shape\n"
   ]
  },
  {
   "cell_type": "code",
   "execution_count": 22,
   "id": "79bed30a",
   "metadata": {},
   "outputs": [
    {
     "data": {
      "text/plain": [
       "encounter_id                    16680\n",
       "patient_nbr                  42519267\n",
       "race                        Caucasian\n",
       "gender                           Male\n",
       "age                                45\n",
       "admission_type_id                   1\n",
       "discharge_disposition_id            1\n",
       "admission_source_id                 7\n",
       "time_in_hospital                    1\n",
       "payer_code                        NaN\n",
       "medical_specialty                 NaN\n",
       "num_lab_procedures                 51\n",
       "num_procedures                      0\n",
       "num_medications                     8\n",
       "number_outpatient                   0\n",
       "number_emergency                    0\n",
       "number_inpatient                    0\n",
       "diag_1                            197\n",
       "diag_2                            157\n",
       "diag_3                            250\n",
       "number_diagnoses                    5\n",
       "max_glu_serum                    None\n",
       "A1Cresult                        None\n",
       "metformin                          No\n",
       "glimepiride                        No\n",
       "glipizide                      Steady\n",
       "glyburide                          No\n",
       "pioglitazone                       No\n",
       "rosiglitazone                      No\n",
       "insulin                        Steady\n",
       "change                             Ch\n",
       "diabetesMed                       Yes\n",
       "readmitted                         NO\n",
       "Name: 4, dtype: object"
      ]
     },
     "execution_count": 22,
     "metadata": {},
     "output_type": "execute_result"
    }
   ],
   "source": [
    "df1.loc[4]"
   ]
  },
  {
   "cell_type": "code",
   "execution_count": null,
   "id": "fb457b8e",
   "metadata": {},
   "outputs": [],
   "source": [
    "## PART 2 -- DATA EXPLORATION "
   ]
  }
 ],
 "metadata": {
  "kernelspec": {
   "display_name": "Python 3 (ipykernel)",
   "language": "python",
   "name": "python3"
  },
  "language_info": {
   "codemirror_mode": {
    "name": "ipython",
    "version": 3
   },
   "file_extension": ".py",
   "mimetype": "text/x-python",
   "name": "python",
   "nbconvert_exporter": "python",
   "pygments_lexer": "ipython3",
   "version": "3.9.10"
  }
 },
 "nbformat": 4,
 "nbformat_minor": 5
}
