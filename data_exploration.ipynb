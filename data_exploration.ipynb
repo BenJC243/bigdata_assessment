{
 "cells": [
  {
   "cell_type": "code",
   "execution_count": 591,
   "id": "f3c79289",
   "metadata": {},
   "outputs": [
    {
     "data": {
      "text/plain": [
       "(64468, 33)"
      ]
     },
     "execution_count": 591,
     "metadata": {},
     "output_type": "execute_result"
    }
   ],
   "source": [
    "#load in relevant modules\n",
    "import pandas as pd \n",
    "import numpy as np\n",
    "import pandas as pd \n",
    "from scipy import stats \n",
    "\n",
    "##0 - importing the data \n",
    "myfile1='/home/bc234/Documents/BigData/diabetic_data/diabetic_data.csv'\n",
    "df=pd.read_csv(myfile1)\n",
    "\n",
    "##1 - cleaning the data \n",
    "#dropping values from the dataframe \n",
    "#print(df.shape) #show the shape of dataframe \n",
    "\n",
    "df.replace('?',np.nan,inplace=True) #replace ? with NaN \n",
    "df = df.replace(r'^\\s*$', np.nan, regex=True) #replace empty space with NaN\n",
    "\n",
    "min50= float(0.5*(df.shape[0]+1)) #create object with value of 50% row total\n",
    "df= df.dropna(axis=1,thresh=min50) #drop columns with values missing from 50% of rows \n",
    "df.shape #one column dropped \n",
    "\n",
    "df.dropna(axis=0,how='any') #drop any rows with missing values \n",
    "\n",
    "#drop columns with 95% same values \n",
    "col_heads=list(df.columns)\n",
    "df['age'].value_counts(dropna=False) #returns each value with list of counts \n",
    "min95=float(0.95*(df.shape[0]+1)) #determine 95% of values \n",
    "for title in col_heads: #for each title in col_heads \n",
    "    mylist= df[title].value_counts(dropna=False) #make a list of counts for each value found in the column\n",
    "    for x in mylist: #for each value (count no. of each value in col)\n",
    "        if x >= min95: #if the value is present in 95% of rows \n",
    "            df.drop(axis=1,columns=title,inplace=True)\n",
    "            statement= 'dropping column: {}'.format(title)\n",
    "            #print(statement)\n",
    "\n",
    "\n",
    "#transforming age column to midpoint\n",
    "newcol=[]\n",
    "for x in df['age']:\n",
    "    x=x.replace('[','')\n",
    "    x=x.replace(')','')\n",
    "    x2=x.split('-')\n",
    "    y=int(x2[0])+5\n",
    "    newcol.append(y)\n",
    "df['age']=newcol\n",
    "\n",
    "#replace NaN values in diag_1/2/3 \n",
    "diag_cols=['diag_1','diag_2','diag_3']\n",
    "for title in diag_cols:\n",
    "    df[title]= df[title].fillna(0,inplace=False)\n",
    "#df1.dtypes\n",
    "\n",
    "#numerical and other variables from data frame to list \n",
    "col_heads=list(df.columns)\n",
    "catlist= df.select_dtypes(object).columns.values.tolist()\n",
    "numlist= df.select_dtypes(np.number).columns.values.tolist()\n",
    "\n",
    "for col in numlist:\n",
    "    if col[-2:]=='id':\n",
    "        numlist.remove(col)\n",
    "        catlist.append(col)\n",
    "numlist.remove('patient_nbr')\n",
    "numlist.remove('discharge_disposition_id')\n",
    "#print('numerical columns are: {}\\ncategorical columns are: {}'.format(numlist,catlist))\n",
    "        \n",
    "#drop rows with duplicate patient_nbr \n",
    "df = df.drop_duplicates(subset='patient_nbr',keep='first')\n",
    "\n",
    "#identify and remove outliers \n",
    "df2=df.copy() #create a copy to identify outliers \n",
    "for col in numlist: #for each numerical column... \n",
    "    z= np.abs(stats.zscore(df[col])) #calculate a z score \n",
    "    df2[col]=z #define a new column with z scores \n",
    "    myindex=df2[(df2[col]>3)].index #index depending on whether or not values deviate > 3 sds from mean \n",
    "    df.drop(myindex,inplace=True) #drop all rows with numerical values > 3 sd from mean\n",
    "df.shape"
   ]
  },
  {
   "cell_type": "markdown",
   "id": "8a2c4aa7",
   "metadata": {},
   "source": [
    "##  2. Data exploration\n",
    "Carry out a data exploration using appropriate plots to identify \n",
    "patterns or trends in the data. Bearing in mind our objective, we need to assess the \n",
    "impact of the predictors e.g. age, race, gender, or diagnosis type on the outcome \n",
    "(readmitted). Use graphs to prove or disprove the following hypotheses:"
   ]
  },
  {
   "cell_type": "raw",
   "id": "ed904d47",
   "metadata": {},
   "source": [
    "-  Age has a higher impact on readmission.\n",
    "-  African Americans are more likely to be re-admitted than other ethnic groups.\n",
    "-  Women patients are more likely to be re-admitted than men.\n",
    "-  Diagnose types have a higher impact on re-admission rates. For this purpose, you need to take into account the icd_codes and plot say diag_1 vs readmitted. \n",
    "\n",
    "Hint 1: You may want to join both datasets diabetic_data.csv and icd_codes.csv.\n",
    "Hint 2: Check for distinct values in categorical data and their frequencies. If there are \n",
    "too many distinct values (levels), then you may want to reduce the number of levels \n",
    "by grouping some of the detailed levels. This could be the case for race or diagnosis types.\n",
    "Hint 3: You may want to transform the readmitted column values to be 0 if the value is NO \n",
    "and 1 otherwise for a better exploration of the data."
   ]
  },
  {
   "cell_type": "raw",
   "id": "a1cd9030",
   "metadata": {},
   "source": [
    "- Age has a higher impact on readmission.\n",
    "- .groupby() age\n",
    "- Scaling/normalise data? --> sklearn (W4)\n",
    "- correlation matrix\n",
    "- count occurrences of race, gender diagnosis type\n",
    "\n",
    "Regression model:\n",
    "- Yes (1) = readmitted\n",
    "- No  (0) = not readmitted\n",
    "- diagnosis type --> ICD codes"
   ]
  },
  {
   "cell_type": "code",
   "execution_count": 592,
   "id": "ab90c40a",
   "metadata": {},
   "outputs": [
    {
     "data": {
      "text/plain": [
       "(64468, 41)"
      ]
     },
     "execution_count": 592,
     "metadata": {},
     "output_type": "execute_result"
    }
   ],
   "source": [
    "df['readmitted'] = df['readmitted'].replace({'>30':'1', '<30':'1', 'NO': '0'})\n",
    "dum_cols=['gender', 'race']\n",
    "dummies=pd.get_dummies(df, columns=dum_cols)\n",
    "df = pd.concat([df, dummies], axis = 1)\n",
    "df = df.loc[:,~df.columns.duplicated()]\n",
    "df.shape"
   ]
  },
  {
   "cell_type": "code",
   "execution_count": 593,
   "id": "1ff9d36a",
   "metadata": {
    "scrolled": true
   },
   "outputs": [],
   "source": [
    "ls = list(df['diag_1'])\n",
    "def diag_1(df):\n",
    "    for i, x in enumerate(df['diag_1']):\n",
    "        v = str(x)\n",
    "        if v[0].isalpha():\n",
    "            ls[i] = v.replace(v,'other')\n",
    "        elif v[0].isdigit():\n",
    "            s = float(v)\n",
    "            if (s > 390 and s < 460) or s == 785:#s in range(390, 460):\n",
    "                p = str(s)\n",
    "                ls[i] = p.replace(p,'circulatory_disease')\n",
    "            elif s > 249.99 and s < 251:\n",
    "                p = str(s)\n",
    "                ls[i] = p.replace(p,'diabetes_mellitus')\n",
    "            elif (s > 459 and s < 520) or s == 786:\n",
    "                p = str(s)\n",
    "                ls[i] = p.replace(p,'respiratory_disease')\n",
    "            elif (s > 519 and s < 580) or s == 787:\n",
    "                p = str(s)\n",
    "                ls[i] = p.replace(p,'gastrointestinal_disease')\n",
    "            elif (s > 799 and s < 1000):\n",
    "                p = str(s)\n",
    "                ls[i] = p.replace(p,'injury/poisoning')\n",
    "            elif (s > 709 and s < 740):\n",
    "                p = str(s)\n",
    "                ls[i] = p.replace(p,'musculoskeletal/connective')\n",
    "            elif (s > 579 and s < 740):\n",
    "                p = str(s)\n",
    "                ls[i] = p.replace(p,'genitourinary')\n",
    "            elif (s > 139 and s < 240):\n",
    "                p = str(s)\n",
    "                ls[i] = p.replace(p,'neoplasms')\n",
    "            else:\n",
    "                p = str(s)\n",
    "                ls[i] = p.replace(p,'other')                \n",
    "\n",
    "    df['diag_1'] = ls\n",
    "    return df['diag_1']\n",
    "\n",
    "df['diag_1'] = diag_1(df)\n",
    "\n",
    "ls1 = list(df['diag_2'])\n",
    "def diag_2(df):\n",
    "    for i, x in enumerate(df['diag_2']):\n",
    "        v = str(x)\n",
    "        if v[0].isalpha():\n",
    "            ls1[i] = v.replace(v,'other')\n",
    "        elif v[0].isdigit():\n",
    "            s = float(v)\n",
    "            if (s > 390 and s < 460) or s == 785:#s in range(390, 460):\n",
    "                p = str(s)\n",
    "                ls1[i] = p.replace(p,'circulatory_disease')\n",
    "            elif s > 249.99 and s < 251:\n",
    "                p = str(s)\n",
    "                ls[i] = p.replace(p,'diabetes_mellitus')\n",
    "            elif (s > 459 and s < 520) or s == 786:\n",
    "                p = str(s)\n",
    "                ls1[i] = p.replace(p,'respiratory_disease')\n",
    "            elif (s > 519 and s < 580) or s == 787:\n",
    "                p = str(s)\n",
    "                ls1[i] = p.replace(p,'gastrointestinal_disease')\n",
    "            elif (s > 799 and s < 1000):\n",
    "                p = str(s)\n",
    "                ls1[i] = p.replace(p,'injury/poisoning')\n",
    "            elif (s > 709 and s < 740):\n",
    "                p = str(s)\n",
    "                ls1[i] = p.replace(p,'musculoskeletal/connective')\n",
    "            elif (s > 579 and s < 740):\n",
    "                p = str(s)\n",
    "                ls1[i] = p.replace(p,'genitourinary')\n",
    "            elif (s > 139 and s < 240):\n",
    "                p = str(s)\n",
    "                ls1[i] = p.replace(p,'neoplasms')\n",
    "            else:\n",
    "                p = str(s)\n",
    "                ls1[i] = p.replace(p,'other')                \n",
    "\n",
    "    df['diag_2'] = ls\n",
    "    return df['diag_2']\n",
    "\n",
    "df['diag_2'] = diag_2(df)\n",
    "\n",
    "ls2 = list(df['diag_3'])\n",
    "def diag_3(df):\n",
    "    for i, x in enumerate(df['diag_3']):\n",
    "        v = str(x)\n",
    "        if v[0].isalpha():\n",
    "            ls1[i] = v.replace(v,'other')\n",
    "        elif v[0].isdigit():\n",
    "            s = float(v)\n",
    "            if (s > 390 and s < 460) or s == 785:#s in range(390, 460):\n",
    "                p = str(s)\n",
    "                ls2[i] = p.replace(p,'circulatory_disease')\n",
    "            elif s > 249.99 and s < 251:\n",
    "                p = str(s)\n",
    "                ls2[i] = p.replace(p,'diabetes_mellitus')\n",
    "            elif (s > 459 and s < 520) or s == 786:\n",
    "                p = str(s)\n",
    "                ls2[i] = p.replace(p,'respiratory_disease')\n",
    "            elif (s > 519 and s < 580) or s == 787:\n",
    "                p = str(s)\n",
    "                ls2[i] = p.replace(p,'gastrointestinal_disease')\n",
    "            elif (s > 799 and s < 1000):\n",
    "                p = str(s)\n",
    "                ls2[i] = p.replace(p,'injury/poisoning')\n",
    "            elif (s > 709 and s < 740):\n",
    "                p = str(s)\n",
    "                ls2[i] = p.replace(p,'musculoskeletal/connective')\n",
    "            elif (s > 579 and s < 740):\n",
    "                p = str(s)\n",
    "                ls2[i] = p.replace(p,'genitourinary')\n",
    "            elif (s > 139 and s < 240):\n",
    "                p = str(s)\n",
    "                ls2[i] = p.replace(p,'neoplasms')\n",
    "            else:\n",
    "                p = str(s)\n",
    "                ls2[i] = p.replace(p,'other')                \n",
    "\n",
    "    df['diag_3'] = ls\n",
    "    return df['diag_3']\n",
    "df['diag_3'] = diag_3(df)"
   ]
  },
  {
   "cell_type": "code",
   "execution_count": 594,
   "id": "48ee7e80",
   "metadata": {},
   "outputs": [
    {
     "data": {
      "image/png": "[encoded data removed]",
      "text/plain": [
       "<Figure size 432x216 with 2 Axes>"
      ]
     },
     "metadata": {},
     "output_type": "display_data"
    }
   ],
   "source": [
    "import matplotlib.pyplot as plt\n",
    "import seaborn as sns\n",
    "\n",
    "def readmission_hists(df, plot_cols, grid_col):\n",
    "    for col in plot_cols:\n",
    "        #if (col != 'encounter_id' and col != 'patient_nbr'):\n",
    "        if col == 'age':\n",
    "            g = sns.FacetGrid(df, col=grid_col, margin_titles=True)\n",
    "            g.map(plt.hist, col)\n",
    "            plt.show()\n",
    "readmission_hists (df, df.select_dtypes(include=[np.number]).columns, \"readmitted\")"
   ]
  },
  {
   "cell_type": "code",
   "execution_count": 595,
   "id": "24dda16f",
   "metadata": {},
   "outputs": [
    {
     "name": "stdout",
     "output_type": "stream",
     "text": [
      "11410 male\n",
      "13450 female\n",
      "18997 cauc\n",
      "4397 african-americ\n",
      "140 asian\n",
      "449 hispanic\n"
     ]
    }
   ],
   "source": [
    "ls3=[]\n",
    "for i, j in zip(list(df['readmitted']), list(df['gender_Male'])):\n",
    "    if int(i) == int(j):\n",
    "        ls3.append(i)\n",
    "#print(len(ls3))\n",
    "print(ls3.count('1'), 'male') # = num of men readmitted\n",
    "#print(ls3.count('0'))\n",
    "\n",
    "ls4=[]\n",
    "for i, j in zip(list(df['readmitted']), list(df['gender_Female'])):\n",
    "    if int(i) == int(j):\n",
    "        ls4.append(i)\n",
    "print(ls4.count('1'), 'female')\n",
    "\n",
    "ls5=[]\n",
    "for i, j in zip(list(df['readmitted']), list(df['race_Caucasian'])):\n",
    "    if int(i) == int(j):\n",
    "        ls5.append(i)\n",
    "print(ls5.count('1'), 'cauc')\n",
    "\n",
    "ls6=[]\n",
    "for i, j in zip(list(df['readmitted']), list(df['race_AfricanAmerican'])):\n",
    "    if int(i) == int(j):\n",
    "        ls6.append(i)\n",
    "print(ls6.count('1'), 'african-americ')\n",
    "\n",
    "ls7=[]\n",
    "for i, j in zip(list(df['readmitted']), list(df['race_Asian'])):\n",
    "    if int(i) == int(j):\n",
    "        ls7.append(i)\n",
    "print(ls7.count('1'), 'asian')\n",
    "\n",
    "ls8=[]\n",
    "for i, j in zip(list(df['readmitted']), list(df['race_Hispanic'])):\n",
    "    if int(i) == int(j):\n",
    "        ls8.append(i)\n",
    "print(ls8.count('1'), 'hispanic')"
   ]
  },
  {
   "cell_type": "code",
   "execution_count": 596,
   "id": "a27907ab",
   "metadata": {},
   "outputs": [
    {
     "name": "stdout",
     "output_type": "stream",
     "text": [
      "0    34277\n",
      "1    30191\n",
      "Name: gender_Male, dtype: int64\n",
      "1    34274\n",
      "0    30194\n",
      "Name: gender_Female, dtype: int64\n",
      "1    48048\n",
      "0    16420\n",
      "Name: race_Caucasian, dtype: int64\n",
      "0    52750\n",
      "1    11718\n",
      "Name: race_AfricanAmerican, dtype: int64\n",
      "0    64007\n",
      "1      461\n",
      "Name: race_Asian, dtype: int64\n",
      "0    63127\n",
      "1     1341\n",
      "Name: race_Hispanic, dtype: int64\n"
     ]
    }
   ],
   "source": [
    "print(df['gender_Male'].value_counts())\n",
    "print(df['gender_Female'].value_counts())\n",
    "print(df['race_Caucasian'].value_counts())\n",
    "print(df['race_AfricanAmerican'].value_counts())\n",
    "print(df['race_Asian'].value_counts())\n",
    "print(df['race_Hispanic'].value_counts())"
   ]
  },
  {
   "cell_type": "code",
   "execution_count": 597,
   "id": "73e61946",
   "metadata": {},
   "outputs": [
    {
     "name": "stderr",
     "output_type": "stream",
     "text": [
      "/home/bc234/miniconda3/lib/python3.9/site-packages/seaborn/_decorators.py:36: FutureWarning: Pass the following variables as keyword args: x, y. From version 0.12, the only valid positional argument will be `data`, and passing other arguments without an explicit keyword will result in an error or misinterpretation.\n",
      "  warnings.warn(\n"
     ]
    },
    {
     "data": {
      "image/png": "[encoded data removed]",
      "text/plain": [
       "<Figure size 1440x540 with 1 Axes>"
      ]
     },
     "metadata": {},
     "output_type": "display_data"
    },
    {
     "name": "stderr",
     "output_type": "stream",
     "text": [
      "/home/bc234/miniconda3/lib/python3.9/site-packages/seaborn/_decorators.py:36: FutureWarning: Pass the following variables as keyword args: x, y. From version 0.12, the only valid positional argument will be `data`, and passing other arguments without an explicit keyword will result in an error or misinterpretation.\n",
      "  warnings.warn(\n"
     ]
    },
    {
     "data": {
      "image/png": "[encoded data removed]",
      "text/plain": [
       "<Figure size 1440x540 with 1 Axes>"
      ]
     },
     "metadata": {},
     "output_type": "display_data"
    }
   ],
   "source": [
    "    #normalised --> (total of group that were readmitted)/(total of group)\n",
    "x = ['Male', 'Female']\n",
    "y = [11410 / 30191, 13450 / 34274]\n",
    "sns.barplot(x, y)\n",
    "plt.show()\n",
    "\n",
    "x = ['Caucasian', 'African-American','Asian','Hispanic']\n",
    "y = [18997/48048, 4397/11718, 140/461, 449/1341]\n",
    "\n",
    "sns.barplot(x, y)\n",
    "plt.show()"
   ]
  },
  {
   "cell_type": "code",
   "execution_count": 598,
   "id": "51c6a67a",
   "metadata": {},
   "outputs": [
    {
     "name": "stdout",
     "output_type": "stream",
     "text": [
      "8025 circulatory\n",
      "3581 respiratory\n",
      "2274 gastrointestinal_disease\n",
      "1926 genitourinary\n",
      "1959 diabetes_mellitus\n",
      "1319 musculoskeletal/connective\n",
      "1603 injury/poisoning\n",
      "755 neoplasms\n",
      "3418 other\n"
     ]
    }
   ],
   "source": [
    "ls9=[]\n",
    "for i, j in zip(list(df['readmitted']), list(df['diag_1'])):\n",
    "    if i == '1' and j == 'circulatory_disease':\n",
    "        ls9.append(1)\n",
    "print(ls9.count(1), 'circulatory')\n",
    "\n",
    "ls9=[]\n",
    "for i, j in zip(list(df['readmitted']), list(df['diag_1'])):\n",
    "    if i == '1' and j == 'respiratory_disease':\n",
    "        ls9.append(1)\n",
    "print(ls9.count(1), 'respiratory')\n",
    "\n",
    "ls9=[]\n",
    "for i, j in zip(list(df['readmitted']), list(df['diag_1'])):\n",
    "    if i == '1' and j == 'gastrointestinal_disease':\n",
    "        ls9.append(1)\n",
    "print(ls9.count(1), 'gastrointestinal_disease')\n",
    "\n",
    "ls9=[]\n",
    "for i, j in zip(list(df['readmitted']), list(df['diag_1'])):\n",
    "    if i == '1' and j == 'genitourinary':\n",
    "        ls9.append(1)\n",
    "print(ls9.count(1), 'genitourinary')\n",
    "\n",
    "ls9=[]\n",
    "for i, j in zip(list(df['readmitted']), list(df['diag_1'])):\n",
    "    if i == '1' and j == 'diabetes_mellitus':\n",
    "        ls9.append(1)\n",
    "print(ls9.count(1), 'diabetes_mellitus')\n",
    "\n",
    "ls9=[]\n",
    "for i, j in zip(list(df['readmitted']), list(df['diag_1'])):\n",
    "    if i == '1' and j == 'musculoskeletal/connective':\n",
    "        ls9.append(1)\n",
    "print(ls9.count(1), 'musculoskeletal/connective')\n",
    "\n",
    "ls9=[]\n",
    "for i, j in zip(list(df['readmitted']), list(df['diag_1'])):\n",
    "    if i == '1' and j == 'injury/poisoning':\n",
    "        ls9.append(1)\n",
    "print(ls9.count(1), 'injury/poisoning')\n",
    "        \n",
    "ls9=[]\n",
    "for i, j in zip(list(df['readmitted']), list(df['diag_1'])):\n",
    "    if i == '1' and j == 'neoplasms':\n",
    "        ls9.append(1)\n",
    "print(ls9.count(1), 'neoplasms')\n",
    "\n",
    "ls9=[]\n",
    "for i, j in zip(list(df['readmitted']), list(df['diag_1'])):\n",
    "    if i == '1' and j == 'other':\n",
    "        ls9.append(1)\n",
    "print(ls9.count(1), 'other')\n",
    "\n",
    "\n",
    "#df['readmitted']"
   ]
  },
  {
   "cell_type": "code",
   "execution_count": 600,
   "id": "7bceb36b",
   "metadata": {},
   "outputs": [
    {
     "data": {
      "text/plain": [
       "circulatory_disease           19652\n",
       "respiratory_disease            9006\n",
       "other                          8946\n",
       "gastrointestinal_disease       6077\n",
       "genitourinary                  5345\n",
       "diabetes_mellitus              4690\n",
       "injury/poisoning               4361\n",
       "musculoskeletal/connective     3847\n",
       "neoplasms                      2544\n",
       "Name: diag_1, dtype: int64"
      ]
     },
     "execution_count": 600,
     "metadata": {},
     "output_type": "execute_result"
    }
   ],
   "source": [
    "df['diag_1'].value_counts()"
   ]
  },
  {
   "cell_type": "code",
   "execution_count": 602,
   "id": "048ce88f",
   "metadata": {},
   "outputs": [
    {
     "name": "stderr",
     "output_type": "stream",
     "text": [
      "/home/bc234/miniconda3/lib/python3.9/site-packages/seaborn/_decorators.py:36: FutureWarning: Pass the following variables as keyword args: x, y. From version 0.12, the only valid positional argument will be `data`, and passing other arguments without an explicit keyword will result in an error or misinterpretation.\n",
      "  warnings.warn(\n"
     ]
    },
    {
     "data": {
      "image/png": "[encoded data removed]",
      "text/plain": [
       "<Figure size 1440x540 with 1 Axes>"
      ]
     },
     "metadata": {},
     "output_type": "display_data"
    }
   ],
   "source": [
    "import seaborn as sns\n",
    "#from matplotlib import pyplot\n",
    "x = ['Circulatory', 'Respiratory', 'Gastrointestinal','Genitourinary','Diabetes',\n",
    "    'musculoskeletal/connective', 'injury/poisoning', 'Neoplasms', 'other']\n",
    "y = [8025/19652, 3581/9006, 2274/6077, 1926/5345, 1959/4690, 1319/3847, 1603/4361, 755/2544, 3418/8946]\n",
    "\n",
    "sns.set(rc={'figure.figsize':(20,7.5)})\n",
    "sns.barplot(x, y)#, height=5)\n",
    "plt.show()"
   ]
  },
  {
   "cell_type": "code",
   "execution_count": 607,
   "id": "1b694b6d",
   "metadata": {},
   "outputs": [
    {
     "name": "stdout",
     "output_type": "stream",
     "text": [
      "7012 circulatory\n",
      "3047 respiratory\n",
      "1937 gastrointestinal_disease\n",
      "1561 genitourinary\n",
      "5247 diabetes_mellitus\n",
      "1031 musculoskeletal/connective\n",
      "0 injury/poisoning\n",
      "679 neoplasms\n",
      "2928 other\n"
     ]
    }
   ],
   "source": [
    "ls11=[]\n",
    "for i, j in zip(list(df['readmitted']), list(df['diag_2'])):\n",
    "    if i == '1' and j == 'circulatory_disease':\n",
    "        ls11.append(1)\n",
    "print(ls11.count(1), 'circulatory')\n",
    "\n",
    "ls11=[]\n",
    "for i, j in zip(list(df['readmitted']), list(df['diag_2'])):\n",
    "    if i == '1' and j == 'respiratory_disease':\n",
    "        ls11.append(1)\n",
    "print(ls11.count(1), 'respiratory')\n",
    "\n",
    "ls11=[]\n",
    "for i, j in zip(list(df['readmitted']), list(df['diag_2'])):\n",
    "    if i == '1' and j == 'gastrointestinal_disease':\n",
    "        ls11.append(1)\n",
    "print(ls11.count(1), 'gastrointestinal_disease')\n",
    "\n",
    "ls11=[]\n",
    "for i, j in zip(list(df['readmitted']), list(df['diag_2'])):\n",
    "    if i == '1' and j == 'genitourinary':\n",
    "        ls11.append(1)\n",
    "print(ls11.count(1), 'genitourinary')\n",
    "\n",
    "ls11=[]\n",
    "for i, j in zip(list(df['readmitted']), list(df['diag_2'])):\n",
    "    if i == '1' and j == 'diabetes_mellitus':\n",
    "        ls11.append(1)\n",
    "print(ls11.count(1), 'diabetes_mellitus')\n",
    "\n",
    "ls11=[]\n",
    "for i, j in zip(list(df['readmitted']), list(df['diag_2'])):\n",
    "    if i == '1' and j == 'musculoskeletal/connective':\n",
    "        ls11.append(1)\n",
    "print(ls11.count(1), 'musculoskeletal/connective')\n",
    "\n",
    "ls11=[]\n",
    "for i, j in zip(list(df['readmitted']), list(df['diag_2'])):\n",
    "    if i == '1' and j == 'injury/poisoning':\n",
    "        ls10.append(1)\n",
    "print(ls11.count(1), 'injury/poisoning')\n",
    "        \n",
    "ls11=[]\n",
    "for i, j in zip(list(df['readmitted']), list(df['diag_2'])):\n",
    "    if i == '1' and j == 'neoplasms':\n",
    "        ls11.append(1)\n",
    "print(ls11.count(1), 'neoplasms')\n",
    "\n",
    "ls11=[]\n",
    "for i, j in zip(list(df['readmitted']), list(df['diag_2'])):\n",
    "    if i == '1' and j == 'other':\n",
    "        ls11.append(1)\n",
    "print(ls11.count(1), 'other')\n",
    "\n",
    "\n",
    "#df['readmitted']"
   ]
  },
  {
   "cell_type": "code",
   "execution_count": 618,
   "id": "48204424",
   "metadata": {},
   "outputs": [
    {
     "name": "stdout",
     "output_type": "stream",
     "text": [
      "circulatory_disease           17205\n",
      "diabetes_mellitus             13691\n",
      "other                          7625\n",
      "respiratory_disease            7504\n",
      "gastrointestinal_disease       5137\n",
      "genitourinary                  4254\n",
      "injury/poisoning               3870\n",
      "musculoskeletal/connective     2941\n",
      "neoplasms                      2241\n",
      "Name: diag_2, dtype: int64\n"
     ]
    }
   ],
   "source": [
    "print(df['diag_2'].value_counts())"
   ]
  },
  {
   "cell_type": "code",
   "execution_count": 627,
   "id": "dec4dd88",
   "metadata": {},
   "outputs": [
    {
     "name": "stderr",
     "output_type": "stream",
     "text": [
      "/home/bc234/miniconda3/lib/python3.9/site-packages/seaborn/_decorators.py:36: FutureWarning: Pass the following variables as keyword args: x, y. From version 0.12, the only valid positional argument will be `data`, and passing other arguments without an explicit keyword will result in an error or misinterpretation.\n",
      "  warnings.warn(\n"
     ]
    },
    {
     "data": {
      "image/png": "[encoded data removed]",
      "text/plain": [
       "<Figure size 1440x540 with 1 Axes>"
      ]
     },
     "metadata": {},
     "output_type": "display_data"
    }
   ],
   "source": [
    "#DIAG 2 & 3 (same num of diagnoses)\n",
    "x = ['Circulatory disease', 'Respiratory disease', 'Gastrointestinal disease','Genitourinary disease','Diabetes',\n",
    "    'musculoskeletal/connective', 'injury/poisoning', 'neoplasms', 'other']\n",
    "y = [7012/17205, 3047/7504, 1937/5137, 1561/4254, 5247/13691, 1031/2941, 0, 679/2241, 2928/7625]\n",
    "\n",
    "sns.set(rc={'figure.figsize':(20,7.5)})\n",
    "sns.barplot(x, y)\n",
    "plt.show()"
   ]
  },
  {
   "cell_type": "markdown",
   "id": "bd7569ff",
   "metadata": {},
   "source": [
    "Age seems like a good predictor; race and gender less-so. The diagnosis types and their readmission rates hardly vary between each other (with the exception of diabetes) and therefore age is likely to have a higher impact on readmission."
   ]
  },
  {
   "cell_type": "markdown",
   "id": "6dbce343",
   "metadata": {},
   "source": [
    "# 3. Model Building"
   ]
  },
  {
   "cell_type": "raw",
   "id": "7293af97",
   "metadata": {},
   "source": [
    "Consider the sub-dataset for the following columns:\n",
    "\n",
    "['num_medications', 'number_outpatient', 'number_emergency', 'time_in_hospital', \n",
    "'number_inpatient', 'encounter_id', 'age', 'num_lab_procedures', 'number_diagnoses', \n",
    "'num_procedures', 'readmitted']\n",
    "\n",
    "Build up a model that predicts whether a diabetic patient will be re-admitted or not. Ensure you transform the readmitted column values to be 0 if the value is NO and 1 otherwise. Split the data into a training and test sets, build the model and show the confusion matrix. Evaluate your model by using a cross-validation procedure"
   ]
  },
  {
   "cell_type": "code",
   "execution_count": 659,
   "id": "38737dd8",
   "metadata": {},
   "outputs": [
    {
     "name": "stdout",
     "output_type": "stream",
     "text": [
      "Model score:\n",
      "  0.5823027718550107\n",
      "Coefficients: \n",
      "num_medications 5.565096721386047e-17\n",
      "number_outpatient 6.546760362406759e-18\n",
      "number_emergency 3.0964032522218224e-18\n",
      "time_in_hospital 1.3428566885161058e-17\n",
      "number_inpatient 6.119579887010322e-18\n",
      "age -3.232204068760208e-16\n",
      "num_lab_procedures -5.87845741599117e-16\n",
      "number_diagnoses 8.290846096053582e-18\n",
      "num_procedures 1.9985909319967266e-17\n",
      "encounter_id -2.30227203021803e-09\n"
     ]
    }
   ],
   "source": [
    "from sklearn import linear_model, preprocessing\n",
    "from sklearn.model_selection import train_test_split, cross_val_score\n",
    "from sklearn import feature_selection#, metrics\n",
    "from sklearn.feature_selection import RFE \n",
    "from sklearn.svm import SVR\n",
    "#df = df.loc[:,~df.columns.duplicated()] #remove duplicated 'readmitted' col\n",
    "df1 = df[['encounter_id','num_medications', 'number_outpatient', 'number_emergency', 'time_in_hospital', \n",
    "'number_inpatient', 'age', 'num_lab_procedures', 'number_diagnoses', \n",
    "'num_procedures','diag_1', 'diag_2', 'diag_3', 'readmitted']]\n",
    "df1 = df1.drop(df1.loc[df1['diag_1']!='diabetes_mellitus'].index)#, inplace=False)\n",
    "df1 = df1.drop(df1.loc[df1['diag_2']!='diabetes_mellitus'].index)#, inplace=False)\n",
    "df1 = df1.drop(df1.loc[df1['diag_3']!='diabetes_mellitus'].index)#, inplace=False)\n",
    "\n",
    "model1 = linear_model.LogisticRegression()\n",
    "cols = ['num_medications', 'number_outpatient', 'number_emergency', 'time_in_hospital', \n",
    "'number_inpatient', 'age', 'num_lab_procedures', 'number_diagnoses', 'num_procedures', 'encounter_id']\n",
    "\n",
    "#REMOVE encounter id --> increases score slightly\n",
    "\n",
    "X = df1[cols]\n",
    "Y = df1['readmitted']\n",
    "model1.fit(X, Y)\n",
    "\n",
    "print('Model score:\\n ', model1.score(X,Y))\n",
    "print('Coefficients: ')\n",
    "for feat, coef in zip(cols, model1.coef_[0]):\n",
    "    print(feat, coef)"
   ]
  },
  {
   "cell_type": "code",
   "execution_count": 660,
   "id": "d507c469",
   "metadata": {},
   "outputs": [
    {
     "name": "stdout",
     "output_type": "stream",
     "text": [
      "Score against training data:  0.5771964742678419\n",
      "Score against test data:  0.597612958226769\n"
     ]
    }
   ],
   "source": [
    "X_train, X_test, Y_train, Y_test = train_test_split(\n",
    "X, Y, test_size=0.25)\n",
    "model2 = linear_model.LogisticRegression()\n",
    "model2.fit(X_train, Y_train)\n",
    "print(\"Score against training data: \",model2.score(X_train, Y_train))\n",
    "print(\"Score against test data: \", model2.score(X_test, Y_test))\n",
    "#scores = cross_val_score(linear_model.LogisticRegression(), X, Y, scoring='accuracy', cv=10)\n",
    "#print(\"Cross validation mean scores: {}\".format(scores.mean()))"
   ]
  },
  {
   "cell_type": "code",
   "execution_count": 480,
   "id": "92be7894",
   "metadata": {},
   "outputs": [
    {
     "name": "stdout",
     "output_type": "stream",
     "text": [
      "Accuracy for the training set:  0.6019677996422182\n",
      "Accuracy for the test set: 0.6085790884718498\n",
      "True Positive:  0\n",
      "False Positive:  0\n",
      "True Negative:  227\n",
      "False Negative(FN) =  146\n",
      "Accuracy of the binary classification =  0.6085790884718498\n",
      "[[227   0]\n",
      " [146   0]]\n"
     ]
    },
    {
     "data": {
      "image/png": "[encoded data removed]",
      "text/plain": [
       "<Figure size 1440x540 with 2 Axes>"
      ]
     },
     "metadata": {},
     "output_type": "display_data"
    },
    {
     "name": "stdout",
     "output_type": "stream",
     "text": [
      "Accuracy  =   0.6085790884718498\n",
      "Precision  =   0.0\n",
      "Recall  =  0.0\n",
      "F1_score  =  0.0\n"
     ]
    },
    {
     "name": "stderr",
     "output_type": "stream",
     "text": [
      "/home/bc234/miniconda3/lib/python3.9/site-packages/sklearn/metrics/_classification.py:1318: UndefinedMetricWarning: Recall is ill-defined and being set to 0.0 due to no true samples. Use `zero_division` parameter to control this behavior.\n",
      "  _warn_prf(average, modifier, msg_start, len(result))\n"
     ]
    }
   ],
   "source": [
    "    #CONFUSION MATRIX\n",
    "from sklearn.metrics import confusion_matrix\n",
    "from sklearn.metrics import accuracy_score, precision_score, recall_score, f1_score, ConfusionMatrixDisplay\n",
    "\n",
    "df1['readmitted'] = df1['readmitted'].replace({1:'1', 1:'1', 0: '0'})\n",
    "#df1['readmitted'] = df1['readmitted'].replace({'1':1, '0':0})\n",
    "\n",
    "#print(df1)\n",
    "#print(df['readmitted'])#.dtype)\n",
    "pred_test = model2.predict(X_test)\n",
    "pred_train = model2.predict(X_train)\n",
    "\n",
    "## Acuracy score for the training data\n",
    "accuracy_train = accuracy_score(pred_train, Y_train)\n",
    "print('Accuracy for the training set: ', accuracy_train)\n",
    "## Acuracy score for the test data\n",
    "accuracy_test = accuracy_score(pred_test, Y_test)\n",
    "print('Accuracy for the test set: ', accuracy_test)\n",
    "\n",
    "\n",
    "# confusion matrix for the test data\n",
    "pred = pred_test\n",
    "cm = confusion_matrix(Y_test, pred)\n",
    "\n",
    "TN, FP, FN, TP = confusion_matrix(Y_test, pred_test).ravel()\n",
    "\n",
    "print('True Positives: ', TP)\n",
    "print('False Positives: ', FP)\n",
    "print('True Negatives: ', TN)\n",
    "print('False Negatives: ', FN)\n",
    "\n",
    "accuracy = (TP+TN) /(TP+FP+TN+FN)\n",
    "\n",
    "print('Accuracy score = ', accuracy)\n",
    "print(cm)\n",
    "\n",
    "disp = ConfusionMatrixDisplay(confusion_matrix=cm,display_labels=model2.classes_)\n",
    "disp.plot()\n",
    "plt.show()\n",
    "\n",
    "# Calculate Accuracy, Precision and Recall Metrics for the test data\n",
    "accuracy = accuracy_score(pred, Y_test)\n",
    "print('Accuracy: ', accuracy)\n",
    "precision = precision_score(pred, Y_test,pos_label = '1')\n",
    "print('Precision: ', precision)\n",
    "recall = recall_score(pred, Y_test,pos_label = '1')\n",
    "print('Recall: ', recall)\n",
    "f1score = f1_score(pred, Y_test,pos_label = '1')\n",
    "\n",
    "print('F1_score: ', f1score)\n",
    "plt.show()"
   ]
  },
  {
   "cell_type": "code",
   "execution_count": 210,
   "id": "3d7a5de2",
   "metadata": {},
   "outputs": [
    {
     "name": "stdout",
     "output_type": "stream",
     "text": [
      "Cross validation mean scores:  0.6425400103252452\n"
     ]
    },
    {
     "name": "stderr",
     "output_type": "stream",
     "text": [
      "/home/bc234/miniconda3/lib/python3.9/site-packages/sklearn/linear_model/_logistic.py:814: ConvergenceWarning: lbfgs failed to converge (status=1):\n",
      "STOP: TOTAL NO. of ITERATIONS REACHED LIMIT.\n",
      "\n",
      "Increase the number of iterations (max_iter) or scale the data as shown in:\n",
      "    https://scikit-learn.org/stable/modules/preprocessing.html\n",
      "Please also refer to the documentation for alternative solver options:\n",
      "    https://scikit-learn.org/stable/modules/linear_model.html#logistic-regression\n",
      "  n_iter_i = _check_optimize_result(\n",
      "/home/bc234/miniconda3/lib/python3.9/site-packages/sklearn/linear_model/_logistic.py:814: ConvergenceWarning: lbfgs failed to converge (status=1):\n",
      "STOP: TOTAL NO. of ITERATIONS REACHED LIMIT.\n",
      "\n",
      "Increase the number of iterations (max_iter) or scale the data as shown in:\n",
      "    https://scikit-learn.org/stable/modules/preprocessing.html\n",
      "Please also refer to the documentation for alternative solver options:\n",
      "    https://scikit-learn.org/stable/modules/linear_model.html#logistic-regression\n",
      "  n_iter_i = _check_optimize_result(\n",
      "/home/bc234/miniconda3/lib/python3.9/site-packages/sklearn/linear_model/_logistic.py:814: ConvergenceWarning: lbfgs failed to converge (status=1):\n",
      "STOP: TOTAL NO. of ITERATIONS REACHED LIMIT.\n",
      "\n",
      "Increase the number of iterations (max_iter) or scale the data as shown in:\n",
      "    https://scikit-learn.org/stable/modules/preprocessing.html\n",
      "Please also refer to the documentation for alternative solver options:\n",
      "    https://scikit-learn.org/stable/modules/linear_model.html#logistic-regression\n",
      "  n_iter_i = _check_optimize_result(\n",
      "/home/bc234/miniconda3/lib/python3.9/site-packages/sklearn/linear_model/_logistic.py:814: ConvergenceWarning: lbfgs failed to converge (status=1):\n",
      "STOP: TOTAL NO. of ITERATIONS REACHED LIMIT.\n",
      "\n",
      "Increase the number of iterations (max_iter) or scale the data as shown in:\n",
      "    https://scikit-learn.org/stable/modules/preprocessing.html\n",
      "Please also refer to the documentation for alternative solver options:\n",
      "    https://scikit-learn.org/stable/modules/linear_model.html#logistic-regression\n",
      "  n_iter_i = _check_optimize_result(\n",
      "/home/bc234/miniconda3/lib/python3.9/site-packages/sklearn/linear_model/_logistic.py:814: ConvergenceWarning: lbfgs failed to converge (status=1):\n",
      "STOP: TOTAL NO. of ITERATIONS REACHED LIMIT.\n",
      "\n",
      "Increase the number of iterations (max_iter) or scale the data as shown in:\n",
      "    https://scikit-learn.org/stable/modules/preprocessing.html\n",
      "Please also refer to the documentation for alternative solver options:\n",
      "    https://scikit-learn.org/stable/modules/linear_model.html#logistic-regression\n",
      "  n_iter_i = _check_optimize_result(\n"
     ]
    }
   ],
   "source": [
    "    #CROSS VALIDATION\n",
    "scores = cross_val_score(linear_model.LogisticRegression(), X, Y, scoring='accuracy')\n",
    "print('Cross validation mean score: ', scores.mean())"
   ]
  },
  {
   "cell_type": "markdown",
   "id": "40e985b4",
   "metadata": {},
   "source": [
    "# Part 2 - Improved Model"
   ]
  },
  {
   "cell_type": "raw",
   "id": "dfe00880",
   "metadata": {},
   "source": [
    "1. Consider the entire datasets given in this assignment. Develop an improved predictive\n",
    "model that predicts the likelihood for a given diabetic patient to be re-admitted in hospital. Make sure to validate your model. You should aim for a model with a higher predictive accuracy or with results that are easy to explain/interpret."
   ]
  }
 ],
 "metadata": {
  "kernelspec": {
   "display_name": "Python 3 (ipykernel)",
   "language": "python",
   "name": "python3"
  },
  "language_info": {
   "codemirror_mode": {
    "name": "ipython",
    "version": 3
   },
   "file_extension": ".py",
   "mimetype": "text/x-python",
   "name": "python",
   "nbconvert_exporter": "python",
   "pygments_lexer": "ipython3",
   "version": "3.9.5"
  }
 },
 "nbformat": 4,
 "nbformat_minor": 5
}
